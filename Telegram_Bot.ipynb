{
  "cells": [
    {
      "cell_type": "code",
      "execution_count": null,
      "metadata": {
        "colab": {
          "base_uri": "https://localhost:8080/"
        },
        "id": "OWc1uOcqNoUO",
        "outputId": "e138a149-1db4-4019-ffbd-5ca02dce1435"
      },
      "outputs": [
        {
          "output_type": "stream",
          "name": "stdout",
          "text": [
            "Collecting python-telegram-bot==13.7\n",
            "  Downloading python_telegram_bot-13.7-py3-none-any.whl (490 kB)\n",
            "\u001b[2K     \u001b[90m━━━━━━━━━━━━━━━━━━━━━━━━━━━━━━━━━━━━━━━━\u001b[0m \u001b[32m490.1/490.1 kB\u001b[0m \u001b[31m3.9 MB/s\u001b[0m eta \u001b[36m0:00:00\u001b[0m\n",
            "\u001b[?25hRequirement already satisfied: certifi in /usr/local/lib/python3.10/dist-packages (from python-telegram-bot==13.7) (2024.2.2)\n",
            "Requirement already satisfied: tornado>=6.1 in /usr/local/lib/python3.10/dist-packages (from python-telegram-bot==13.7) (6.3.2)\n",
            "Collecting APScheduler==3.6.3 (from python-telegram-bot==13.7)\n",
            "  Downloading APScheduler-3.6.3-py2.py3-none-any.whl (58 kB)\n",
            "\u001b[2K     \u001b[90m━━━━━━━━━━━━━━━━━━━━━━━━━━━━━━━━━━━━━━━━\u001b[0m \u001b[32m58.9/58.9 kB\u001b[0m \u001b[31m5.5 MB/s\u001b[0m eta \u001b[36m0:00:00\u001b[0m\n",
            "\u001b[?25hRequirement already satisfied: pytz>=2018.6 in /usr/local/lib/python3.10/dist-packages (from python-telegram-bot==13.7) (2023.4)\n",
            "Collecting cachetools==4.2.2 (from python-telegram-bot==13.7)\n",
            "  Downloading cachetools-4.2.2-py3-none-any.whl (11 kB)\n",
            "Requirement already satisfied: setuptools>=0.7 in /usr/local/lib/python3.10/dist-packages (from APScheduler==3.6.3->python-telegram-bot==13.7) (67.7.2)\n",
            "Requirement already satisfied: six>=1.4.0 in /usr/local/lib/python3.10/dist-packages (from APScheduler==3.6.3->python-telegram-bot==13.7) (1.16.0)\n",
            "Requirement already satisfied: tzlocal>=1.2 in /usr/local/lib/python3.10/dist-packages (from APScheduler==3.6.3->python-telegram-bot==13.7) (5.2)\n",
            "Installing collected packages: cachetools, APScheduler, python-telegram-bot\n",
            "  Attempting uninstall: cachetools\n",
            "    Found existing installation: cachetools 5.3.3\n",
            "    Uninstalling cachetools-5.3.3:\n",
            "      Successfully uninstalled cachetools-5.3.3\n",
            "Successfully installed APScheduler-3.6.3 cachetools-4.2.2 python-telegram-bot-13.7\n"
          ]
        }
      ],
      "source": [
        "!pip install python-telegram-bot==13.7"
      ]
    },
    {
      "cell_type": "code",
      "execution_count": null,
      "metadata": {
        "colab": {
          "base_uri": "https://localhost:8080/"
        },
        "id": "mwfDDry9X45s",
        "outputId": "d3e083b3-312a-42ac-ae86-c55e87162729"
      },
      "outputs": [
        {
          "output_type": "stream",
          "name": "stdout",
          "text": [
            "BOT Started\n"
          ]
        },
        {
          "output_type": "stream",
          "name": "stderr",
          "text": [
            "WARNING:telegram.ext.updater:Exiting immediately!\n"
          ]
        }
      ],
      "source": [
        "import telegram.ext\n",
        "from telegram import InputFile\n",
        "\n",
        "print(\"BOT Started\")\n",
        "def start(update, context):\n",
        "      chat_id = update.message.chat_id\n",
        "      print(chat_id)\n",
        "      update.message.reply_text(\"Hello! Welcome to Kognitiv Security Bot!!\")\n",
        "      help(update, context)\n",
        "def help(update, context):\n",
        "    update.message.reply_text(\"\"\"\n",
        "    The following commands are available:\n",
        "\n",
        "    /start -> Commands\n",
        "    /content -> About us\n",
        "    /photo -> Send me a photo\n",
        "    /contact -> About My Club\n",
        "     \"\"\")\n",
        "def content(update, context):\n",
        "    update.message.reply_text(\"We are developing this bot for security purposes\")\n",
        "def photo(update, context):\n",
        "    update.message.reply_text(\"I sent my photo\")\n",
        "    photo_path = '/content/1678342903750.jpeg'\n",
        "    with open(photo_path, 'rb') as photo_file:\n",
        "        context.bot.send_photo(chat_id=update.message.chat_id, photo=InputFile(photo_file))\n",
        "def contact(update, context):\n",
        "    update.message.reply_text(\"Feel free to contact\")\n",
        "def handle_message(update, context):\n",
        "    update.message.reply_text(f\"You said {update.message.text}, use the commands using /\")\n",
        "def main():\n",
        "    bot_token = \"6577062227:AAEu_7tFR_HqK1qTIghx1a-O4QU4pr4M4Gc\"\n",
        "    updater = telegram.ext.Updater(token=bot_token, use_context=True)\n",
        "    dispatcher = updater.dispatcher\n",
        "\n",
        "    dispatcher.add_handler(telegram.ext.CommandHandler('start', start))\n",
        "    dispatcher.add_handler(telegram.ext.CommandHandler('help', help))\n",
        "    dispatcher.add_handler(telegram.ext.CommandHandler('content', content))\n",
        "    dispatcher.add_handler(telegram.ext.CommandHandler('photo', photo))\n",
        "    dispatcher.add_handler(telegram.ext.CommandHandler('contact', contact))\n",
        "    dispatcher.add_handler(telegram.ext.MessageHandler(telegram.ext.Filters.text, handle_message))\n",
        "\n",
        "    updater.start_polling()\n",
        "    updater.idle()\n",
        "\n",
        "if __name__ == '__main__':\n",
        "    main()\n"
      ]
    },
    {
      "cell_type": "code",
      "execution_count": null,
      "metadata": {
        "id": "UDEW48nFcOo5"
      },
      "outputs": [],
      "source": []
    }
  ],
  "metadata": {
    "colab": {
      "provenance": []
    },
    "kernelspec": {
      "display_name": "Python 3",
      "name": "python3"
    },
    "language_info": {
      "name": "python"
    }
  },
  "nbformat": 4,
  "nbformat_minor": 0
}